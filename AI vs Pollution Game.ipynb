{
 "cells": [
  {
   "cell_type": "code",
   "execution_count": 1,
   "id": "3fe67572-82eb-4de1-b142-8a7cddad3c9f",
   "metadata": {},
   "outputs": [
    {
     "name": "stdout",
     "output_type": "stream",
     "text": [
      "\n",
      "Turn: AI\n",
      "Pollution: 50 | Eco Score: 0\n",
      "AI chooses: Plant Trees\n",
      "\n",
      "Turn: Opponent\n",
      "Pollution: 40 | Eco Score: 5\n",
      "Choose an action:\n",
      "1. Factory Expansion\n",
      "2. More Vehicles\n",
      "3. Deforestation\n"
     ]
    },
    {
     "name": "stdin",
     "output_type": "stream",
     "text": [
      "Enter the number of your action:  1\n"
     ]
    },
    {
     "name": "stdout",
     "output_type": "stream",
     "text": [
      "\n",
      "Turn: AI\n",
      "Pollution: 50 | Eco Score: 5\n",
      "AI chooses: Plant Trees\n",
      "\n",
      "Turn: Opponent\n",
      "Pollution: 40 | Eco Score: 10\n",
      "Choose an action:\n",
      "1. Factory Expansion\n",
      "2. More Vehicles\n",
      "3. Deforestation\n"
     ]
    },
    {
     "name": "stdin",
     "output_type": "stream",
     "text": [
      "Enter the number of your action:  2\n"
     ]
    },
    {
     "name": "stdout",
     "output_type": "stream",
     "text": [
      "\n",
      "Turn: AI\n",
      "Pollution: 48 | Eco Score: 10\n",
      "AI chooses: Plant Trees\n",
      "\n",
      "Turn: Opponent\n",
      "Pollution: 38 | Eco Score: 15\n",
      "Choose an action:\n",
      "1. Factory Expansion\n",
      "2. More Vehicles\n",
      "3. Deforestation\n"
     ]
    },
    {
     "name": "stdin",
     "output_type": "stream",
     "text": [
      "Enter the number of your action:  3\n"
     ]
    },
    {
     "name": "stdout",
     "output_type": "stream",
     "text": [
      "\n",
      "Turn: AI\n",
      "Pollution: 44 | Eco Score: 15\n",
      "AI chooses: Plant Trees\n",
      "\n",
      "Turn: Opponent\n",
      "Pollution: 34 | Eco Score: 20\n",
      "Choose an action:\n",
      "1. Factory Expansion\n",
      "2. More Vehicles\n",
      "3. Deforestation\n"
     ]
    },
    {
     "name": "stdin",
     "output_type": "stream",
     "text": [
      "Enter the number of your action:  3\n"
     ]
    },
    {
     "name": "stdout",
     "output_type": "stream",
     "text": [
      "\n",
      "Turn: AI\n",
      "Pollution: 40 | Eco Score: 20\n",
      "AI chooses: Plant Trees\n",
      "\n",
      "Turn: Opponent\n",
      "Pollution: 30 | Eco Score: 25\n",
      "Choose an action:\n",
      "1. Factory Expansion\n",
      "2. More Vehicles\n",
      "3. Deforestation\n"
     ]
    },
    {
     "name": "stdin",
     "output_type": "stream",
     "text": [
      "Enter the number of your action:  1\n"
     ]
    },
    {
     "name": "stdout",
     "output_type": "stream",
     "text": [
      "\n",
      "=== Game Over ===\n",
      "Final Pollution: 40 | Final Eco Score: 25\n",
      "Opponent Wins! Pollution increased ☠️\n"
     ]
    }
   ],
   "source": [
    "import random\n",
    "\n",
    "\n",
    "class GameState:\n",
    "    def __init__(self, pollution=50, eco_score=0, turn='AI', depth=0):\n",
    "        self.pollution = pollution\n",
    "        self.eco_score = eco_score\n",
    "        self.turn = turn\n",
    "        self.depth = depth\n",
    "\n",
    "    def is_terminal(self):\n",
    "        # Game ends if pollution >= 100, eco_score >=50, or 10 turns reached\n",
    "        return self.pollution >= 100 or self.eco_score >= 50 or self.depth >= 10\n",
    "\n",
    "    def get_actions(self):\n",
    "        if self.turn == 'AI':\n",
    "            return ['Plant Trees', 'Recycle', 'Use Solar', 'Eco Campaign']\n",
    "        else:\n",
    "            return ['Factory Expansion', 'More Vehicles', 'Deforestation']\n",
    "\n",
    "    def make_move(self, action):\n",
    "        new_state = GameState(\n",
    "            pollution=self.pollution,\n",
    "            eco_score=self.eco_score,\n",
    "            turn='Opponent' if self.turn=='AI' else 'AI',\n",
    "            depth=self.depth+1\n",
    "        )\n",
    "\n",
    "        # AI moves increase eco score and reduce pollution\n",
    "        if self.turn == 'AI':\n",
    "            if action == 'Plant Trees':\n",
    "                new_state.pollution = max(0, self.pollution - 10)\n",
    "                new_state.eco_score += 5\n",
    "            elif action == 'Recycle':\n",
    "                new_state.pollution = max(0, self.pollution - 5)\n",
    "                new_state.eco_score += 3\n",
    "            elif action == 'Use Solar':\n",
    "                new_state.pollution = max(0, self.pollution - 8)\n",
    "                new_state.eco_score += 4\n",
    "            elif action == 'Eco Campaign':\n",
    "                new_state.pollution = max(0, self.pollution - 6)\n",
    "                new_state.eco_score += 6\n",
    "        # Opponent moves increase pollution only\n",
    "        else:\n",
    "            if action == 'Factory Expansion':\n",
    "                new_state.pollution += 10\n",
    "            elif action == 'More Vehicles':\n",
    "                new_state.pollution += 8\n",
    "            elif action == 'Deforestation':\n",
    "                new_state.pollution += 6\n",
    "\n",
    "        return new_state\n",
    "\n",
    "\n",
    "def evaluate(state):\n",
    "    return state.eco_score - state.pollution\n",
    "\n",
    "\n",
    "def alpha_beta(state, depth, alpha, beta, maximizingPlayer):\n",
    "    if state.is_terminal() or depth == 0:\n",
    "        return evaluate(state), None\n",
    "\n",
    "    if maximizingPlayer:\n",
    "        max_eval = float('-inf')\n",
    "        best_action = None\n",
    "        for action in state.get_actions():\n",
    "            child = state.make_move(action)\n",
    "            eval, _ = alpha_beta(child, depth-1, alpha, beta, False)\n",
    "            if eval > max_eval:\n",
    "                max_eval = eval\n",
    "                best_action = action\n",
    "            alpha = max(alpha, eval)\n",
    "            if beta <= alpha:\n",
    "                break\n",
    "        return max_eval, best_action\n",
    "    else:\n",
    "        min_eval = float('inf')\n",
    "        best_action = None\n",
    "        for action in state.get_actions():\n",
    "            child = state.make_move(action)\n",
    "            eval, _ = alpha_beta(child, depth-1, alpha, beta, True)\n",
    "            if eval < min_eval:\n",
    "                min_eval = eval\n",
    "                best_action = action\n",
    "            beta = min(beta, eval)\n",
    "            if beta <= alpha:\n",
    "                break\n",
    "        return min_eval, best_action\n",
    "\n",
    "\n",
    "def play_game():\n",
    "    state = GameState()\n",
    "    while not state.is_terminal():\n",
    "        print(f\"\\nTurn: {state.turn}\")\n",
    "        print(f\"Pollution: {state.pollution} | Eco Score: {state.eco_score}\")\n",
    "\n",
    "        if state.turn == 'AI':\n",
    "            _, action = alpha_beta(state, depth=4, alpha=float('-inf'), beta=float('inf'), maximizingPlayer=True)\n",
    "            print(f\"AI chooses: {action}\")\n",
    "        else:\n",
    "            actions = state.get_actions()\n",
    "            print(\"Choose an action:\")\n",
    "            for i, a in enumerate(actions):\n",
    "                print(f\"{i+1}. {a}\")\n",
    "            while True:\n",
    "                try:\n",
    "                    choice = int(input(\"Enter the number of your action: \"))\n",
    "                    if 1 <= choice <= len(actions):\n",
    "                        action = actions[choice-1]\n",
    "                        break\n",
    "                    else:\n",
    "                        print(\"Invalid choice. Try again.\")\n",
    "                except ValueError:\n",
    "                    print(\"Enter a valid number.\")\n",
    "\n",
    "        state = state.make_move(action)\n",
    "\n",
    "    \n",
    "    print(\"\\n=== Game Over ===\")\n",
    "    print(f\"Final Pollution: {state.pollution} | Final Eco Score: {state.eco_score}\")\n",
    "    if state.eco_score > state.pollution:\n",
    "        print(\"AI Wins! Environment Improved 🌱\")\n",
    "    else:\n",
    "        print(\"Opponent Wins! Pollution increased ☠️\")\n",
    "\n",
    "\n",
    "if __name__ == \"__main__\":\n",
    "    play_game()\n"
   ]
  },
  {
   "cell_type": "code",
   "execution_count": null,
   "id": "667fe4b5-506e-4c79-b626-37cc96cfcd1b",
   "metadata": {},
   "outputs": [],
   "source": []
  }
 ],
 "metadata": {
  "kernelspec": {
   "display_name": "Python [conda env:anaconda3] *",
   "language": "python",
   "name": "conda-env-anaconda3-py"
  },
  "language_info": {
   "codemirror_mode": {
    "name": "ipython",
    "version": 3
   },
   "file_extension": ".py",
   "mimetype": "text/x-python",
   "name": "python",
   "nbconvert_exporter": "python",
   "pygments_lexer": "ipython3",
   "version": "3.12.7"
  }
 },
 "nbformat": 4,
 "nbformat_minor": 5
}
